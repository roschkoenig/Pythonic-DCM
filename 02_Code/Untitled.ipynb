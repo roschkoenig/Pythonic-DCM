{
 "cells": [
  {
   "cell_type": "code",
   "execution_count": null,
   "id": "8c38b514-fa52-437f-aa13-8ba3fe360518",
   "metadata": {},
   "outputs": [],
   "source": [
    "def solution(S):\n",
    "    for si in range(len(S)): \n",
    "        for ssi in range (len(S[si:])-1):\n",
    "            if S[si] == S[si+ssi]: print(S[si])\n",
    "            \n"
   ]
  },
  {
   "cell_type": "code",
   "execution_count": null,
   "id": "f5a6de47-ddeb-4877-83f2-059f3cb70d8e",
   "metadata": {},
   "outputs": [],
   "source": [
    "solution('codility')"
   ]
  },
  {
   "cell_type": "code",
   "execution_count": null,
   "id": "72d09fa8-e878-4e69-b7bd-45d0ffcedb21",
   "metadata": {},
   "outputs": [],
   "source": []
  }
 ],
 "metadata": {
  "kernelspec": {
   "display_name": "Python 3 (ipykernel)",
   "language": "python",
   "name": "python3"
  },
  "language_info": {
   "codemirror_mode": {
    "name": "ipython",
    "version": 3
   },
   "file_extension": ".py",
   "mimetype": "text/x-python",
   "name": "python",
   "nbconvert_exporter": "python",
   "pygments_lexer": "ipython3",
   "version": "3.9.10"
  }
 },
 "nbformat": 4,
 "nbformat_minor": 5
}
